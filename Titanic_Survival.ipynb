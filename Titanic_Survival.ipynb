{
  "nbformat": 4,
  "nbformat_minor": 0,
  "metadata": {
    "colab": {
      "name": "Titanic Survival 2.ipynb",
      "version": "0.3.2",
      "provenance": [],
      "collapsed_sections": [],
      "include_colab_link": true
    },
    "kernelspec": {
      "name": "python3",
      "display_name": "Python 3"
    }
  },
  "cells": [
    {
      "cell_type": "markdown",
      "metadata": {
        "id": "view-in-github",
        "colab_type": "text"
      },
      "source": [
        "<a href=\"https://colab.research.google.com/github/AdhirajChaddha/Kaggle-Titanic-Callenge/blob/master/Titanic_Survival.ipynb\" target=\"_parent\"><img src=\"https://colab.research.google.com/assets/colab-badge.svg\" alt=\"Open In Colab\"/></a>"
      ]
    },
    {
      "cell_type": "code",
      "metadata": {
        "id": "A4AGM6411jzN",
        "colab_type": "code",
        "colab": {}
      },
      "source": [
        "import pandas as pd"
      ],
      "execution_count": 0,
      "outputs": []
    },
    {
      "cell_type": "code",
      "metadata": {
        "id": "3h8tT-Th1m8h",
        "colab_type": "code",
        "colab": {}
      },
      "source": [
        "testURL = 'https://raw.githubusercontent.com/AdhirajChaddha/Kaggle-Titanic-Callenge/master/test.csv'\n",
        "trainURL = 'https://raw.githubusercontent.com/AdhirajChaddha/Kaggle-Titanic-Callenge/master/train.csv'\n",
        "\n",
        "trainAndTest = pd.read_csv(trainURL)\n",
        "predict = pd.read_csv(testURL)\n",
        "\n",
        "train_test_split = 0.2\n",
        "length = len(trainAndTest)\n",
        "split = int(train_test_split*length)\n",
        "\n",
        "test, train =  trainAndTest.iloc[:split, :], trainAndTest.iloc[split:, :]"
      ],
      "execution_count": 0,
      "outputs": []
    },
    {
      "cell_type": "code",
      "metadata": {
        "id": "05sU8F1x1pAr",
        "colab_type": "code",
        "colab": {
          "base_uri": "https://localhost:8080/",
          "height": 241
        },
        "outputId": "ed74bad9-2bb5-4c70-a725-68a2f9db0c4a"
      },
      "source": [
        "train.head()"
      ],
      "execution_count": 89,
      "outputs": [
        {
          "output_type": "execute_result",
          "data": {
            "text/html": [
              "<div>\n",
              "<style scoped>\n",
              "    .dataframe tbody tr th:only-of-type {\n",
              "        vertical-align: middle;\n",
              "    }\n",
              "\n",
              "    .dataframe tbody tr th {\n",
              "        vertical-align: top;\n",
              "    }\n",
              "\n",
              "    .dataframe thead th {\n",
              "        text-align: right;\n",
              "    }\n",
              "</style>\n",
              "<table border=\"1\" class=\"dataframe\">\n",
              "  <thead>\n",
              "    <tr style=\"text-align: right;\">\n",
              "      <th></th>\n",
              "      <th>PassengerId</th>\n",
              "      <th>Survived</th>\n",
              "      <th>Pclass</th>\n",
              "      <th>Name</th>\n",
              "      <th>Sex</th>\n",
              "      <th>Age</th>\n",
              "      <th>SibSp</th>\n",
              "      <th>Parch</th>\n",
              "      <th>Ticket</th>\n",
              "      <th>Fare</th>\n",
              "      <th>Cabin</th>\n",
              "      <th>Embarked</th>\n",
              "    </tr>\n",
              "  </thead>\n",
              "  <tbody>\n",
              "    <tr>\n",
              "      <th>178</th>\n",
              "      <td>179</td>\n",
              "      <td>0</td>\n",
              "      <td>2</td>\n",
              "      <td>Hale, Mr. Reginald</td>\n",
              "      <td>male</td>\n",
              "      <td>30.0</td>\n",
              "      <td>0</td>\n",
              "      <td>0</td>\n",
              "      <td>250653</td>\n",
              "      <td>13.0000</td>\n",
              "      <td>NaN</td>\n",
              "      <td>S</td>\n",
              "    </tr>\n",
              "    <tr>\n",
              "      <th>179</th>\n",
              "      <td>180</td>\n",
              "      <td>0</td>\n",
              "      <td>3</td>\n",
              "      <td>Leonard, Mr. Lionel</td>\n",
              "      <td>male</td>\n",
              "      <td>36.0</td>\n",
              "      <td>0</td>\n",
              "      <td>0</td>\n",
              "      <td>LINE</td>\n",
              "      <td>0.0000</td>\n",
              "      <td>NaN</td>\n",
              "      <td>S</td>\n",
              "    </tr>\n",
              "    <tr>\n",
              "      <th>180</th>\n",
              "      <td>181</td>\n",
              "      <td>0</td>\n",
              "      <td>3</td>\n",
              "      <td>Sage, Miss. Constance Gladys</td>\n",
              "      <td>female</td>\n",
              "      <td>NaN</td>\n",
              "      <td>8</td>\n",
              "      <td>2</td>\n",
              "      <td>CA. 2343</td>\n",
              "      <td>69.5500</td>\n",
              "      <td>NaN</td>\n",
              "      <td>S</td>\n",
              "    </tr>\n",
              "    <tr>\n",
              "      <th>181</th>\n",
              "      <td>182</td>\n",
              "      <td>0</td>\n",
              "      <td>2</td>\n",
              "      <td>Pernot, Mr. Rene</td>\n",
              "      <td>male</td>\n",
              "      <td>NaN</td>\n",
              "      <td>0</td>\n",
              "      <td>0</td>\n",
              "      <td>SC/PARIS 2131</td>\n",
              "      <td>15.0500</td>\n",
              "      <td>NaN</td>\n",
              "      <td>C</td>\n",
              "    </tr>\n",
              "    <tr>\n",
              "      <th>182</th>\n",
              "      <td>183</td>\n",
              "      <td>0</td>\n",
              "      <td>3</td>\n",
              "      <td>Asplund, Master. Clarence Gustaf Hugo</td>\n",
              "      <td>male</td>\n",
              "      <td>9.0</td>\n",
              "      <td>4</td>\n",
              "      <td>2</td>\n",
              "      <td>347077</td>\n",
              "      <td>31.3875</td>\n",
              "      <td>NaN</td>\n",
              "      <td>S</td>\n",
              "    </tr>\n",
              "  </tbody>\n",
              "</table>\n",
              "</div>"
            ],
            "text/plain": [
              "     PassengerId  Survived  Pclass  ...     Fare Cabin  Embarked\n",
              "178          179         0       2  ...  13.0000   NaN         S\n",
              "179          180         0       3  ...   0.0000   NaN         S\n",
              "180          181         0       3  ...  69.5500   NaN         S\n",
              "181          182         0       2  ...  15.0500   NaN         C\n",
              "182          183         0       3  ...  31.3875   NaN         S\n",
              "\n",
              "[5 rows x 12 columns]"
            ]
          },
          "metadata": {
            "tags": []
          },
          "execution_count": 89
        }
      ]
    },
    {
      "cell_type": "code",
      "metadata": {
        "id": "6Fn4Zqbs1q2S",
        "colab_type": "code",
        "colab": {}
      },
      "source": [
        "# This function removes unnecessary coulmns and returns the cleaned up dataframe\n",
        "def clean(data):\n",
        "  # We dont need the coulmn for the name as it does not have any relation\n",
        "  data = data.drop(columns=['Name','Cabin', 'Ticket'])\n",
        "  # Male = 1, Female = 0\n",
        "  data.Sex.replace(['male', 'female'], [1, 0], inplace=True)\n",
        "  # for Embarked, S = 0, C = 1, Q = 2\n",
        "  data.Embarked.replace(['S', 'C', 'Q'], [0, 1, 2], inplace=True)\n",
        "  return data"
      ],
      "execution_count": 0,
      "outputs": []
    },
    {
      "cell_type": "code",
      "metadata": {
        "id": "BsOS4Nvp1s9Z",
        "colab_type": "code",
        "colab": {
          "base_uri": "https://localhost:8080/",
          "height": 273
        },
        "outputId": "b64baa65-00c5-4e73-cd91-b9b70663f286"
      },
      "source": [
        "# Get the number of empty values in the data\n",
        "def printOutNullItems(trainData, tag=\"\"):\n",
        "  print(tag)\n",
        "  for (columnName, columnData) in trainData.iteritems():\n",
        "    print(columnName , \":\", trainData[columnName].isna().sum())\n",
        "\n",
        "printOutNullItems(train)"
      ],
      "execution_count": 91,
      "outputs": [
        {
          "output_type": "stream",
          "text": [
            "\n",
            "PassengerId : 0\n",
            "Survived : 0\n",
            "Pclass : 0\n",
            "Name : 0\n",
            "Sex : 0\n",
            "Age : 142\n",
            "SibSp : 0\n",
            "Parch : 0\n",
            "Ticket : 0\n",
            "Fare : 0\n",
            "Cabin : 544\n",
            "Embarked : 1\n"
          ],
          "name": "stdout"
        }
      ]
    },
    {
      "cell_type": "code",
      "metadata": {
        "id": "5Knr-4yT1vO8",
        "colab_type": "code",
        "colab": {}
      },
      "source": [
        "# Lets now make 2 copies of the data one where the null age gaps and removed \n",
        "# from the dataset, and one where it if filled with data using a normal \n",
        "# distrubution where with mean and std dev of all people on board. \n",
        "from scipy import stats\n",
        "import numpy as np\n",
        "\n",
        "# This funtion takes in a dataframe and reomoves NaN data rows\n",
        "def removeNaN(data):\n",
        "  train_remove = data.dropna(subset=[\"Age\", \"Embarked\"])\n",
        "  return train_remove\n",
        "\n",
        "# This funtion takes in a dataframe and fills NaN data rows with normal distribution\n",
        "def normalizeNaN(data):\n",
        "  data_copy = data.copy()\n",
        "  # Remove all rows with null items\n",
        "  train_remove = data.dropna(subset=[\"Age\", \"Embarked\"])\n",
        "\n",
        "  # Get the STd Dev and mean for normal distribution of age\n",
        "  ageSTDEV = train_remove.loc[:,\"Age\"].std()\n",
        "  ageMean = scipy.stats.gmean(train_remove.loc[:,\"Age\"])\n",
        "\n",
        "  # Drop all the rows in normal where Embarked is NaN\n",
        "  train_normal = data_copy.dropna(subset=[\"Embarked\"])\n",
        "  train_normal[\"Age\"].fillna(np.random.normal(ageMean, ageSTDEV), inplace = True) \n",
        "\n",
        "  return train_normal"
      ],
      "execution_count": 0,
      "outputs": []
    },
    {
      "cell_type": "code",
      "metadata": {
        "id": "1PHW-u8A4Qu2",
        "colab_type": "code",
        "colab": {}
      },
      "source": [
        "# This function devides the dataframe into labels and features and returns both\n",
        "def getDataAndLabels(data):\n",
        "  labels = data[['Survived']]\n",
        "  features = data.drop(columns=['Survived', \"PassengerId\"])\n",
        "\n",
        "  return features, labels"
      ],
      "execution_count": 0,
      "outputs": []
    },
    {
      "cell_type": "code",
      "metadata": {
        "id": "MzV_F6z98OdL",
        "colab_type": "code",
        "colab": {}
      },
      "source": [
        "# Function that takes a dataframe and normalize bool as args and then returns the\n",
        "# cleaned up features and labels for the data\n",
        "def getData(df, normalize):\n",
        "  df = clean(df)\n",
        "\n",
        "  if (normalize):\n",
        "    df = normalizeNaN(df)\n",
        "  else:\n",
        "    df = removeNaN(df)\n",
        "  \n",
        "  features, labels = getDataAndLabels(df)\n",
        "  return features, labels"
      ],
      "execution_count": 0,
      "outputs": []
    },
    {
      "cell_type": "code",
      "metadata": {
        "id": "anwAuQnVBrRJ",
        "colab_type": "code",
        "colab": {
          "base_uri": "https://localhost:8080/",
          "height": 140
        },
        "outputId": "320659c4-23e1-4488-f3bd-a25305e9df1a"
      },
      "source": [
        "features_normal, labels_normal = getData(train, True)\n",
        "features_removed, labels_removed = getData(train, False)\n",
        "\n",
        "features_test, labels_test = getData(test, False)"
      ],
      "execution_count": 95,
      "outputs": [
        {
          "output_type": "stream",
          "text": [
            "/usr/local/lib/python3.6/dist-packages/pandas/core/generic.py:6130: SettingWithCopyWarning: \n",
            "A value is trying to be set on a copy of a slice from a DataFrame\n",
            "\n",
            "See the caveats in the documentation: http://pandas.pydata.org/pandas-docs/stable/indexing.html#indexing-view-versus-copy\n",
            "  self._update_inplace(new_data)\n"
          ],
          "name": "stderr"
        }
      ]
    },
    {
      "cell_type": "code",
      "metadata": {
        "id": "mVsX0YREB66M",
        "colab_type": "code",
        "colab": {
          "base_uri": "https://localhost:8080/",
          "height": 340
        },
        "outputId": "f757d531-68a9-467f-cd91-6fdd7cfdba50"
      },
      "source": [
        "print(\"features_normal: \", features_normal.shape)\n",
        "print(\"labels_normal: \", labels_normal.shape)\n",
        "\n",
        "print(\"features_removed: \", features_removed.shape)\n",
        "print(\"labels_removed: \", labels_removed.shape)\n",
        "\n",
        "print(\"features_test: \", features_test.shape)\n",
        "print(\"labels_test: \", labels_test.shape)\n",
        "\n",
        "features_normal.head()"
      ],
      "execution_count": 97,
      "outputs": [
        {
          "output_type": "stream",
          "text": [
            "features_normal:  (712, 7)\n",
            "labels_normal:  (712, 1)\n",
            "features_removed:  (570, 7)\n",
            "labels_removed:  (570, 1)\n",
            "features_test:  (142, 7)\n",
            "labels_test:  (142, 1)\n"
          ],
          "name": "stdout"
        },
        {
          "output_type": "execute_result",
          "data": {
            "text/html": [
              "<div>\n",
              "<style scoped>\n",
              "    .dataframe tbody tr th:only-of-type {\n",
              "        vertical-align: middle;\n",
              "    }\n",
              "\n",
              "    .dataframe tbody tr th {\n",
              "        vertical-align: top;\n",
              "    }\n",
              "\n",
              "    .dataframe thead th {\n",
              "        text-align: right;\n",
              "    }\n",
              "</style>\n",
              "<table border=\"1\" class=\"dataframe\">\n",
              "  <thead>\n",
              "    <tr style=\"text-align: right;\">\n",
              "      <th></th>\n",
              "      <th>Pclass</th>\n",
              "      <th>Sex</th>\n",
              "      <th>Age</th>\n",
              "      <th>SibSp</th>\n",
              "      <th>Parch</th>\n",
              "      <th>Fare</th>\n",
              "      <th>Embarked</th>\n",
              "    </tr>\n",
              "  </thead>\n",
              "  <tbody>\n",
              "    <tr>\n",
              "      <th>178</th>\n",
              "      <td>2</td>\n",
              "      <td>1</td>\n",
              "      <td>30.000000</td>\n",
              "      <td>0</td>\n",
              "      <td>0</td>\n",
              "      <td>13.0000</td>\n",
              "      <td>0.0</td>\n",
              "    </tr>\n",
              "    <tr>\n",
              "      <th>179</th>\n",
              "      <td>3</td>\n",
              "      <td>1</td>\n",
              "      <td>36.000000</td>\n",
              "      <td>0</td>\n",
              "      <td>0</td>\n",
              "      <td>0.0000</td>\n",
              "      <td>0.0</td>\n",
              "    </tr>\n",
              "    <tr>\n",
              "      <th>180</th>\n",
              "      <td>3</td>\n",
              "      <td>0</td>\n",
              "      <td>44.853356</td>\n",
              "      <td>8</td>\n",
              "      <td>2</td>\n",
              "      <td>69.5500</td>\n",
              "      <td>0.0</td>\n",
              "    </tr>\n",
              "    <tr>\n",
              "      <th>181</th>\n",
              "      <td>2</td>\n",
              "      <td>1</td>\n",
              "      <td>44.853356</td>\n",
              "      <td>0</td>\n",
              "      <td>0</td>\n",
              "      <td>15.0500</td>\n",
              "      <td>1.0</td>\n",
              "    </tr>\n",
              "    <tr>\n",
              "      <th>182</th>\n",
              "      <td>3</td>\n",
              "      <td>1</td>\n",
              "      <td>9.000000</td>\n",
              "      <td>4</td>\n",
              "      <td>2</td>\n",
              "      <td>31.3875</td>\n",
              "      <td>0.0</td>\n",
              "    </tr>\n",
              "  </tbody>\n",
              "</table>\n",
              "</div>"
            ],
            "text/plain": [
              "     Pclass  Sex        Age  SibSp  Parch     Fare  Embarked\n",
              "178       2    1  30.000000      0      0  13.0000       0.0\n",
              "179       3    1  36.000000      0      0   0.0000       0.0\n",
              "180       3    0  44.853356      8      2  69.5500       0.0\n",
              "181       2    1  44.853356      0      0  15.0500       1.0\n",
              "182       3    1   9.000000      4      2  31.3875       0.0"
            ]
          },
          "metadata": {
            "tags": []
          },
          "execution_count": 97
        }
      ]
    },
    {
      "cell_type": "code",
      "metadata": {
        "id": "009__zYdCRHZ",
        "colab_type": "code",
        "colab": {
          "base_uri": "https://localhost:8080/",
          "height": 107
        },
        "outputId": "ef34e89e-cd8f-4328-fd65-80a121d8b3ce"
      },
      "source": [
        "from sklearn.ensemble import RandomForestClassifier\n",
        "from sklearn.metrics import accuracy_score\n",
        "\n",
        "random_forest = RandomForestClassifier(n_estimators=100)\n",
        "random_forest.fit(features_normal, labels_normal)\n",
        "\n",
        "prediction = random_forest.predict(features_test)\n",
        "\n",
        "accuracy = accuracy_score(prediction, labels_test)\n",
        "\n",
        "print(\"Accuracy is: \", accuracy)"
      ],
      "execution_count": 99,
      "outputs": [
        {
          "output_type": "stream",
          "text": [
            "Accuracy is:  0.7605633802816901\n"
          ],
          "name": "stdout"
        },
        {
          "output_type": "stream",
          "text": [
            "/usr/local/lib/python3.6/dist-packages/ipykernel_launcher.py:5: DataConversionWarning: A column-vector y was passed when a 1d array was expected. Please change the shape of y to (n_samples,), for example using ravel().\n",
            "  \"\"\"\n"
          ],
          "name": "stderr"
        }
      ]
    },
    {
      "cell_type": "code",
      "metadata": {
        "id": "PN8KyA5-IU83",
        "colab_type": "code",
        "colab": {
          "base_uri": "https://localhost:8080/",
          "height": 107
        },
        "outputId": "16746dd1-9ee6-43f9-f300-b2fd9fcb7016"
      },
      "source": [
        "random_forest = RandomForestClassifier(n_estimators=100)\n",
        "random_forest.fit(features_removed, labels_removed)\n",
        "\n",
        "prediction = random_forest.predict(features_test)\n",
        "\n",
        "accuracy = accuracy_score(prediction, labels_test)\n",
        "\n",
        "print(\"Accuracy is: \", accuracy)"
      ],
      "execution_count": 101,
      "outputs": [
        {
          "output_type": "stream",
          "text": [
            "Accuracy is:  0.7394366197183099\n"
          ],
          "name": "stdout"
        },
        {
          "output_type": "stream",
          "text": [
            "/usr/local/lib/python3.6/dist-packages/ipykernel_launcher.py:2: DataConversionWarning: A column-vector y was passed when a 1d array was expected. Please change the shape of y to (n_samples,), for example using ravel().\n",
            "  \n"
          ],
          "name": "stderr"
        }
      ]
    },
    {
      "cell_type": "code",
      "metadata": {
        "id": "BMyag5qvI25M",
        "colab_type": "code",
        "colab": {}
      },
      "source": [
        ""
      ],
      "execution_count": 0,
      "outputs": []
    }
  ]
}